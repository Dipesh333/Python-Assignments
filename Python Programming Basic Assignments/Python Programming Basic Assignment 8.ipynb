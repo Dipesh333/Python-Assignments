{
 "cells": [
  {
   "cell_type": "code",
   "execution_count": null,
   "metadata": {},
   "outputs": [],
   "source": [
    "#Q1.Program to add two matrices\n",
    "from numpy import *\n",
    "m1=matrix('1 2 3;9 8 7')\n",
    "m2=matrix('5 9 4;6 4 3')\n",
    "m3=m1+m2\n",
    "print(\"First Matrix:\",m1)\n",
    "print(\"Second Matrix:\",m2)\n",
    "print(\"Addition of matrices are: \",m3)"
   ]
  },
  {
   "cell_type": "code",
   "execution_count": null,
   "metadata": {},
   "outputs": [],
   "source": [
    "#Q2.Program to multiply two matrices\n",
    "# input two matrices\n",
    "import numpy as np\n",
    "m1 = ([1, 6, 5],[3 ,4, 8],[2, 12, 3])\n",
    "m2 = ([3, 4, 6],[5, 6, 7],[6,56, 7])\n",
    "  \n",
    "# This will return multiplied matrix\n",
    "res = np.dot(m1,m2)\n",
    "  \n",
    "  \n",
    "# print resulted matrix\n",
    "print(res)\n",
    "  \n",
    "\n",
    "print(\"First Matrix:\",m1)\n",
    "print(\"Second Matrix:\",m2)\n",
    "print(\"Multiplication of matrices are: \",res)"
   ]
  },
  {
   "cell_type": "code",
   "execution_count": null,
   "metadata": {},
   "outputs": [],
   "source": [
    "#Q3. Program to transpose a matrix\n",
    "# Program to transpose a matrix using a nested loop\n",
    "\n",
    "X = [[2,7],\n",
    "    [4 ,5],\n",
    "    [3 ,8]]\n",
    "\n",
    "result = [[0,0,0],\n",
    "         [0,0,0]]\n",
    "\n",
    "# iterate through rows\n",
    "for i in range(len(X)):\n",
    "   # iterate through columns\n",
    "   for j in range(len(X[0])):\n",
    "       result[j][i] = X[i][j]\n",
    "\n",
    "for r in result:\n",
    "   print(result)"
   ]
  },
  {
   "cell_type": "code",
   "execution_count": null,
   "metadata": {},
   "outputs": [],
   "source": [
    "#Q4. Program to sort words in Alphabetical Order\n",
    "\n",
    "# To take input from the user\n",
    "my_str = input(\"Enter a string: \")\n",
    "\n",
    "# breakdown the string into a list of words\n",
    "words = [word.lower() for word in my_str.split()]\n",
    "\n",
    "# sort the list\n",
    "words.sort()\n",
    "\n",
    "# display the sorted words\n",
    "\n",
    "print(\"The sorted words are:\")\n",
    "for word in words:\n",
    "   print(word)"
   ]
  },
  {
   "cell_type": "code",
   "execution_count": null,
   "metadata": {},
   "outputs": [],
   "source": [
    "#Q5.Program to remove punctuation from string\n",
    "# define punctuation\n",
    "punctuations = '''!()-[]{};:'\"\\,<>./?@#$%^&*_~'''\n",
    "\n",
    "# To take input from the user\n",
    "my_str = input(\"Enter a string: \")\n",
    "\n",
    "# remove punctuation from the string\n",
    "no_punct = \"\"\n",
    "for char in my_str:\n",
    "   if char not in punctuations:\n",
    "       no_punct = no_punct + char\n",
    "\n",
    "# display the unpunctuated string\n",
    "print(no_punct)"
   ]
  },
  {
   "cell_type": "code",
   "execution_count": null,
   "metadata": {},
   "outputs": [],
   "source": []
  }
 ],
 "metadata": {
  "kernelspec": {
   "display_name": "Python 3",
   "language": "python",
   "name": "python3"
  },
  "language_info": {
   "codemirror_mode": {
    "name": "ipython",
    "version": 3
   },
   "file_extension": ".py",
   "mimetype": "text/x-python",
   "name": "python",
   "nbconvert_exporter": "python",
   "pygments_lexer": "ipython3",
   "version": "3.8.5"
  }
 },
 "nbformat": 4,
 "nbformat_minor": 4
}
