{
 "cells": [
  {
   "cell_type": "code",
   "execution_count": null,
   "metadata": {},
   "outputs": [],
   "source": [
    "#Q1.Program to check if number is positive,negative or zero\n",
    "n=int(input(\"Enter the number\"))\n",
    "if n>0:\n",
    "    print(\"Number is positive\")\n",
    "elif n<0:\n",
    "    print(\"Number is negative\")\n",
    "else:\n",
    "    print(\"Number is zero\")"
   ]
  },
  {
   "cell_type": "code",
   "execution_count": null,
   "metadata": {},
   "outputs": [],
   "source": [
    "#Q2.Program to check  if number is even or odd:\n",
    "n=int(input(\"Enter the number \"))\n",
    "if n%2==0:\n",
    "    print(\"Number is Even\")\n",
    "else:\n",
    "    print(\"Number is Odd\")"
   ]
  },
  {
   "cell_type": "code",
   "execution_count": null,
   "metadata": {},
   "outputs": [],
   "source": [
    "#Q3.Program to check if number is Leap year\n",
    "y=int(input(\"Enter the year \"))\n",
    "if y%4==0 and y%100!=0:\n",
    "    print(\"It is leap year \")\n",
    "elif y%100==0:\n",
    "    print(\"It is not a leap year \")\n",
    "elif y%400==0:\n",
    "    print(\"It is leap year \")\n",
    "else:\n",
    "    print(\"It is not a leap year \")\n"
   ]
  },
  {
   "cell_type": "code",
   "execution_count": null,
   "metadata": {},
   "outputs": [],
   "source": [
    "#Q4.Program to check if number is prime\n",
    "n=int(input(\"Enter the number\"))\n",
    "prime=True\n",
    "for i in range(2,n):\n",
    "    if n%i==0:\n",
    "        prime=False\n",
    "        break  \n",
    "if prime==False:\n",
    "    print(\"Number is not Prime\")\n",
    "else:\n",
    "    print(\"Number is  Prime\")\n"
   ]
  },
  {
   "cell_type": "code",
   "execution_count": null,
   "metadata": {},
   "outputs": [],
   "source": [
    "#Q5.Print all prime numbers in interval og 1-10000\n",
    "n=10000\n",
    "prime=True\n",
    "for num in range(1,n): \n",
    "    for i in range(2,num):\n",
    "        if num%i==0:\n",
    "            break \n",
    "    else:\n",
    "        print(num)"
   ]
  },
  {
   "cell_type": "code",
   "execution_count": null,
   "metadata": {},
   "outputs": [],
   "source": []
  }
 ],
 "metadata": {
  "kernelspec": {
   "display_name": "Python 3",
   "language": "python",
   "name": "python3"
  },
  "language_info": {
   "codemirror_mode": {
    "name": "ipython",
    "version": 3
   },
   "file_extension": ".py",
   "mimetype": "text/x-python",
   "name": "python",
   "nbconvert_exporter": "python",
   "pygments_lexer": "ipython3",
   "version": "3.8.5"
  }
 },
 "nbformat": 4,
 "nbformat_minor": 4
}
