{
 "cells": [
  {
   "cell_type": "code",
   "execution_count": 4,
   "metadata": {},
   "outputs": [
    {
     "name": "stdout",
     "output_type": "stream",
     "text": [
      "Enter the length of  array3\n",
      "Enter the value12\n",
      "Enter the value32\n",
      "Enter the value25\n",
      "array('i', [12, 32, 25])\n",
      "Sum of an array is  69\n"
     ]
    }
   ],
   "source": [
    "#Q1.Program to find sum of an array\n",
    "from array import *\n",
    "arr=array('i',[])\n",
    "#enter no. of elements in an array\n",
    "n=int(input(\"Enter the length of  array\"))\n",
    "for i in range (n):\n",
    "    x=int(input(\"Enter the value\"))\n",
    "    arr.append(x)\n",
    "\n",
    "print(arr)\n",
    "\n",
    "#find sum of an array\n",
    "sum=0\n",
    "for e in range(len(arr)):\n",
    "    sum=sum+arr[e]\n",
    "print(\"Sum of an array is \",sum)\n",
    "    "
   ]
  },
  {
   "cell_type": "code",
   "execution_count": 7,
   "metadata": {},
   "outputs": [
    {
     "name": "stdout",
     "output_type": "stream",
     "text": [
      "Enter the length of  array5\n",
      "Enter the value12\n",
      "Enter the value35\n",
      "Enter the value42\n",
      "Enter the value15\n",
      "Enter the value62\n",
      "array('i', [12, 35, 42, 15, 62])\n",
      "62 is a largest element in an array\n"
     ]
    }
   ],
   "source": [
    "#Q2.Program to find largest element in an array\n",
    "from array import *\n",
    "arr=array('i',[])\n",
    "#enter no. of elements in an array\n",
    "n=int(input(\"Enter the length of  array\"))\n",
    "for i in range (n):\n",
    "    x=int(input(\"Enter the value\"))\n",
    "    arr.append(x)\n",
    "\n",
    "print(arr)\n",
    "\n",
    "#find largest element in an array\n",
    "largest=arr[0]\n",
    "for e in range(len(arr)):\n",
    "    if arr[e]>largest:\n",
    "        largest=arr[e]\n",
    "print(largest,\"is a largest element in an array\")\n",
    "    "
   ]
  },
  {
   "cell_type": "code",
   "execution_count": 12,
   "metadata": {},
   "outputs": [
    {
     "name": "stdout",
     "output_type": "stream",
     "text": [
      "How many elements you want to shift 2\n",
      "32\n",
      "58\n",
      "74\n",
      "15\n",
      "32\n"
     ]
    }
   ],
   "source": [
    "#Q3.Program for array rotation\n",
    "from array import *\n",
    "arr=array('i',[15,34,32,58,74])\n",
    "shift=int(input(\"How many elements you want to shift \"))\n",
    "for i in range(0,shift):\n",
    "    temp=arr[i]\n",
    "    for j in range(0,len(arr)-1):\n",
    "        arr[j]=arr[j+1]\n",
    "    arr[len(arr)-1]=temp\n",
    "for i in range(0,len(arr)):\n",
    "    print(arr[i])\n",
    "    \n"
   ]
  },
  {
   "cell_type": "code",
   "execution_count": 27,
   "metadata": {},
   "outputs": [
    {
     "name": "stdout",
     "output_type": "stream",
     "text": [
      "Orginal Array: [ 1  2  3  4  5  6  7  8  9 10 11 12 13 14]\n",
      "First Array: [1 2 3 4 5 6 7]\n",
      "Second Array: [ 8  9 10 11 12 13 14]\n",
      "New Array:  [ 8  9 10 11 12 13 14  1  2  3  4  5  6  7]\n"
     ]
    }
   ],
   "source": [
    "#Q4.Program to split the array and add first part at the end\n",
    "import numpy as np\n",
    "x=np.arange(1,15)\n",
    "print(\"Orginal Array:\",x)\n",
    "array1,array2=np.array_split(x,2)\n",
    "print(\"First Array:\",array1)\n",
    "print(\"Second Array:\",array2)\n",
    "newarray=np.concatenate((array2,array1))\n",
    "print(\"New Array: \",newarray)\n"
   ]
  },
  {
   "cell_type": "code",
   "execution_count": 34,
   "metadata": {},
   "outputs": [
    {
     "name": "stdout",
     "output_type": "stream",
     "text": [
      "array is monotonic\n"
     ]
    }
   ],
   "source": [
    "#Q5.Program to check if array is monotonic\n",
    "\n",
    "def isMonotonic(arr):\n",
    "  \n",
    "    return (all(arr[i] <= arr[i + 1] for i in range(len(arr) - 1)) or\n",
    "            all(arr[i] >= arr[i + 1] for i in range(len(arr) - 1)))\n",
    "  \n",
    "\n",
    "arr= [6, 5, 4, 2]\n",
    "  \n",
    "# Print  result\n",
    "if isMonotonic(arr)==True:\n",
    "    print(\"array is monotonic\")\n",
    "else:\n",
    "    print(\"array is not monotonic\")\n",
    "\n",
    "  "
   ]
  },
  {
   "cell_type": "code",
   "execution_count": null,
   "metadata": {},
   "outputs": [],
   "source": []
  }
 ],
 "metadata": {
  "kernelspec": {
   "display_name": "Python 3",
   "language": "python",
   "name": "python3"
  },
  "language_info": {
   "codemirror_mode": {
    "name": "ipython",
    "version": 3
   },
   "file_extension": ".py",
   "mimetype": "text/x-python",
   "name": "python",
   "nbconvert_exporter": "python",
   "pygments_lexer": "ipython3",
   "version": "3.8.5"
  }
 },
 "nbformat": 4,
 "nbformat_minor": 4
}
