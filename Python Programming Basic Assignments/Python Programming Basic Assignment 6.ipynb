{
 "cells": [
  {
   "cell_type": "code",
   "execution_count": 4,
   "metadata": {},
   "outputs": [
    {
     "name": "stdout",
     "output_type": "stream",
     "text": [
      "How many numbers: 10\n",
      "1 : 1\n",
      "2 : 2\n",
      "3 : 3\n",
      "4 : 5\n",
      "5 : 8\n",
      "6 : 13\n",
      "7 : 21\n",
      "8 : 34\n",
      "9 : 55\n",
      "10 : 89\n"
     ]
    }
   ],
   "source": [
    "#Q1.Program to display Fibonacci Sequence using Recursion\n",
    "n=int(input(\"How many numbers: \"))\n",
    "if n<=0:\n",
    "    print(\"Please enter positive integer\")\n",
    "\n",
    "def fibonacci(n):\n",
    "    \n",
    "    if n==1:\n",
    "        return 1\n",
    "    elif n==2:\n",
    "        return 2\n",
    "    \n",
    "    elif n>2 :\n",
    "        return fibonacci(n-1)+fibonacci(n-2) \n",
    "    \n",
    "for n in range(1,n+1):\n",
    "    print(n,\":\",fibonacci(n))\n",
    "        "
   ]
  },
  {
   "cell_type": "code",
   "execution_count": 5,
   "metadata": {},
   "outputs": [
    {
     "name": "stdout",
     "output_type": "stream",
     "text": [
      "How many numbers: 5\n",
      "Factorial of  5  is  120\n"
     ]
    }
   ],
   "source": [
    "#Q2.Program to display Factorial of number using Recursion\n",
    "n=int(input(\"How many numbers: \"))\n",
    "if n<=0:\n",
    "    print(\"Please enter positive integer\")\n",
    "def fact(n):\n",
    "    if n==0:\n",
    "        return 1\n",
    "    return n*fact(n-1)\n",
    "result=fact(n)\n",
    "print(\"Factorial of \",n,\" is \",result)\n"
   ]
  },
  {
   "cell_type": "code",
   "execution_count": 1,
   "metadata": {},
   "outputs": [
    {
     "name": "stdout",
     "output_type": "stream",
     "text": [
      "Enter height in meter1\n",
      "Enter height in weight in kg80\n",
      "BMI index is  80.0\n"
     ]
    }
   ],
   "source": [
    "#Q3.Program to find Body Mass Index\n",
    "h=float(input(\"Enter height in meter\"))\n",
    "w=float(input(\"Enter height in weight in kg\"))\n",
    "bmi=w/(h*h)\n",
    "print(\"BMI index is \",bmi)\n"
   ]
  },
  {
   "cell_type": "code",
   "execution_count": 4,
   "metadata": {},
   "outputs": [
    {
     "name": "stdout",
     "output_type": "stream",
     "text": [
      "Enter a number5\n",
      "Natural logarithm is: 1.6094379124341003\n"
     ]
    }
   ],
   "source": [
    "#Q4.Program to calculate natural logarithm of any number\n",
    "import math\n",
    "n=int(input(\"Enter a number\"))\n",
    "print(\"Natural logarithm is:\",math.log(n))"
   ]
  },
  {
   "cell_type": "code",
   "execution_count": 12,
   "metadata": {},
   "outputs": [
    {
     "name": "stdout",
     "output_type": "stream",
     "text": [
      "Enter a number3\n",
      "Cube sum is :  36\n"
     ]
    }
   ],
   "source": [
    "#Q5.Program to find vube sum of first n natural numbers\n",
    "n=int(input(\"Enter a number\"))\n",
    "cs=0\n",
    "i=1\n",
    "for i in range(1,n+1):\n",
    "    cs=cs+i*i*i\n",
    "    \n",
    "print(\"Cube sum is : \",cs)\n"
   ]
  },
  {
   "cell_type": "code",
   "execution_count": null,
   "metadata": {},
   "outputs": [],
   "source": []
  }
 ],
 "metadata": {
  "kernelspec": {
   "display_name": "Python 3",
   "language": "python",
   "name": "python3"
  },
  "language_info": {
   "codemirror_mode": {
    "name": "ipython",
    "version": 3
   },
   "file_extension": ".py",
   "mimetype": "text/x-python",
   "name": "python",
   "nbconvert_exporter": "python",
   "pygments_lexer": "ipython3",
   "version": "3.8.5"
  }
 },
 "nbformat": 4,
 "nbformat_minor": 4
}
