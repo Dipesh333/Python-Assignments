{
 "cells": [
  {
   "cell_type": "code",
   "execution_count": 2,
   "metadata": {},
   "outputs": [
    {
     "name": "stdout",
     "output_type": "stream",
     "text": [
      "Enter kilometers5\n",
      "5 kilometers is equal to  3.1068499999999997 miles\n"
     ]
    }
   ],
   "source": [
    "#Q1.Convert kilometers to miles\n",
    "k=int(input(\"Enter kilometers\"))\n",
    "m=k*0.62137\n",
    "print(k,\"kilometers is equal to \",m,\"miles\")"
   ]
  },
  {
   "cell_type": "code",
   "execution_count": 5,
   "metadata": {},
   "outputs": [
    {
     "name": "stdout",
     "output_type": "stream",
     "text": [
      "Enter celsius10\n",
      "10 celsius is equal to  50.0 fahrenheit\n"
     ]
    }
   ],
   "source": [
    "#Q2.Convert Celsius to  Fahrenheit\n",
    "c=int(input(\"Enter celsius\"))\n",
    "f=(c*1.8)+32\n",
    "print(c,\"celsius is equal to \",f,\"fahrenheit\")"
   ]
  },
  {
   "cell_type": "code",
   "execution_count": 8,
   "metadata": {},
   "outputs": [
    {
     "name": "stdout",
     "output_type": "stream",
     "text": [
      "     March 2021\n",
      "Mo Tu We Th Fr Sa Su\n",
      " 1  2  3  4  5  6  7\n",
      " 8  9 10 11 12 13 14\n",
      "15 16 17 18 19 20 21\n",
      "22 23 24 25 26 27 28\n",
      "29 30 31\n",
      "\n"
     ]
    }
   ],
   "source": [
    "#Q3.Display Calender\n",
    "import calendar\n",
    "year=2021\n",
    "month=3\n",
    "print(calendar.month(year,month))"
   ]
  },
  {
   "cell_type": "code",
   "execution_count": 11,
   "metadata": {},
   "outputs": [
    {
     "name": "stdout",
     "output_type": "stream",
     "text": [
      "Enter the value of a 1\n",
      "Enter the value of b 10\n",
      "Enter the value of c -24\n",
      "real and different roots\n",
      "2.0\n",
      "-12.0\n"
     ]
    }
   ],
   "source": [
    "#Q4.Solve quadratic equation\n",
    "import math\n",
    "def eqroot(a,b,c):\n",
    "    #define discriminant\n",
    "    d=b*b-4*a*c\n",
    "    sq_val=math.sqrt(abs(d))\n",
    "    if d>0:\n",
    "        print(\"real and different roots\")\n",
    "        print((-b+sq_val)/(2*a))\n",
    "        print((-b-sq_val)/(2*a))\n",
    "    elif d==0:\n",
    "        print('roots are real and same')\n",
    "        print(-b/(2*a))\n",
    "    else:\n",
    "        print(\"complex roots\")\n",
    "        print(-b/(2*a),\"+i\",sq_val)\n",
    "        print(-b/(2*a),\"-i\",sq_val)\n",
    "        \n",
    "a=int(input(\"Enter the value of a \"))\n",
    "b=int(input(\"Enter the value of b \"))\n",
    "c=int(input(\"Enter the value of c \"))\n",
    "\n",
    "#If value of a is equal to zero then it is incorrect quadratic equation\n",
    "if a==0:\n",
    "    print(\"Incorrect quadratic equation\")\n",
    "else:\n",
    "    eqroot(a,b,c)\n"
   ]
  },
  {
   "cell_type": "code",
   "execution_count": 13,
   "metadata": {},
   "outputs": [
    {
     "name": "stdout",
     "output_type": "stream",
     "text": [
      "Enter the value of x 10\n",
      "Enter the value of y 5\n",
      "Value of x and y after swapping are 5 and 10 respectively\n"
     ]
    }
   ],
   "source": [
    "#Q5.Swap two variables without temp variable\n",
    "x=int(input(\"Enter the value of x \"))\n",
    "y=int(input(\"Enter the value of y \"))\n",
    "x=x+y\n",
    "y=x-y\n",
    "x=x-y\n",
    "print(\"Value of x and y after swapping are\",x ,\"and\" ,y, \"respectively\")"
   ]
  },
  {
   "cell_type": "code",
   "execution_count": null,
   "metadata": {},
   "outputs": [],
   "source": []
  }
 ],
 "metadata": {
  "kernelspec": {
   "display_name": "Python 3",
   "language": "python",
   "name": "python3"
  },
  "language_info": {
   "codemirror_mode": {
    "name": "ipython",
    "version": 3
   },
   "file_extension": ".py",
   "mimetype": "text/x-python",
   "name": "python",
   "nbconvert_exporter": "python",
   "pygments_lexer": "ipython3",
   "version": "3.8.5"
  }
 },
 "nbformat": 4,
 "nbformat_minor": 4
}
