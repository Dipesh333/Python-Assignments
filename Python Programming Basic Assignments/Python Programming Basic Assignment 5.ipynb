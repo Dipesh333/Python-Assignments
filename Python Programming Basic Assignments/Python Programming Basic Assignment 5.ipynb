{
 "cells": [
  {
   "cell_type": "code",
   "execution_count": 7,
   "metadata": {},
   "outputs": [
    {
     "name": "stdout",
     "output_type": "stream",
     "text": [
      "Enter first number54\n",
      "Enter second number24\n",
      "LCM is  216.0\n"
     ]
    }
   ],
   "source": [
    "#Python program to find LCM\n",
    "n1=int(input(\"Enter first number\"))\n",
    "n2=int(input(\"Enter second number\"))\n",
    "if n1>n2:\n",
    "    min=n1\n",
    "else:\n",
    "    min=n2\n",
    "for i in range(1,min):\n",
    "    if n1%i==0 and n2%i==0:\n",
    "        gcd=i\n",
    "lcm=(n1*n2)/gcd\n",
    "print(\"LCM is \",lcm)"
   ]
  },
  {
   "cell_type": "code",
   "execution_count": 3,
   "metadata": {},
   "outputs": [
    {
     "name": "stdout",
     "output_type": "stream",
     "text": [
      "Enter first number54\n",
      "Enter seconde number24\n",
      "The H.C.F. is  6\n"
     ]
    }
   ],
   "source": [
    "#Q2.Python program to find HCF\n",
    "#enter two integers\n",
    "num1=int(input(\"Enter first number\"))\n",
    "num2=int(input(\"Enter second number\"))\n",
    "def hcf_program(x,y):\n",
    "\n",
    "    #choose smaller number\n",
    "    if x>y:\n",
    "        smaller=y\n",
    "    else:\n",
    "        smaller=x\n",
    "    for i in range(1,smaller+1):\n",
    "        if((x%i==0)and (y%i==0)):\n",
    "            hcf=i\n",
    "    return hcf\n",
    "        \n",
    "print(\"The H.C.F. is \",hcf_program(num1,num2))"
   ]
  },
  {
   "cell_type": "code",
   "execution_count": 14,
   "metadata": {},
   "outputs": [
    {
     "name": "stdout",
     "output_type": "stream",
     "text": [
      "Enter number344\n",
      "binary value of {0} is 0b101011000\n",
      "octal value of {0} is 0o530\n",
      "hexadecimal value of {0} is 0x158\n"
     ]
    }
   ],
   "source": [
    "#Q3.Convert decimal number into Binary,Octal and Hexadecimal.\n",
    "#Convert decimal to binary\n",
    "n=int(input(\"Enter number\"))\n",
    "print(\"binary value of {0} is\",bin(n).format(n))\n",
    "print(\"octal value of {0} is\",oct(n).format(n))\n",
    "print(\"hexadecimal value of {0} is\",hex(n).format(n))\n",
    "\n"
   ]
  },
  {
   "cell_type": "code",
   "execution_count": 5,
   "metadata": {},
   "outputs": [
    {
     "name": "stdout",
     "output_type": "stream",
     "text": [
      "Input characterp\n",
      "ASCII value of character  p  is 112\n"
     ]
    }
   ],
   "source": [
    "#Q4.Program to find ASCII value of character\n",
    "#Enter character\n",
    "c=input(\"Input character\")\n",
    "print(\"ASCII value of character \",c,\" is\",ord(c))"
   ]
  },
  {
   "cell_type": "code",
   "execution_count": 10,
   "metadata": {},
   "outputs": [
    {
     "name": "stdout",
     "output_type": "stream",
     "text": [
      "Enter first number15\n",
      "Enter second number5\n",
      "Enter operation/\n",
      "The division of num1 and num2 is 3.0\n"
     ]
    }
   ],
   "source": [
    "#Q5.Program to make a simple calculator with basic 4 mathematical operations\n",
    "#Enter numbers\n",
    "num1=int(input(\"Enter first number\"))\n",
    "num2=int(input(\"Enter second number\"))\n",
    "op=input(\"Enter operation\")\n",
    "if op=='+':\n",
    "    print(\"The addition of num1 and num2 is\",num1+num2)\n",
    "if op=='-':\n",
    "    print(\"The subtraction of num1 and num2 is\",num1-num2)\n",
    "if op=='*':\n",
    "    print(\"The multiplication of num1 and num2 is\",num1*num2)\n",
    "if op=='/':\n",
    "    print(\"The division of num1 and num2 is\",num1/num2)"
   ]
  },
  {
   "cell_type": "code",
   "execution_count": null,
   "metadata": {},
   "outputs": [],
   "source": []
  }
 ],
 "metadata": {
  "kernelspec": {
   "display_name": "Python 3",
   "language": "python",
   "name": "python3"
  },
  "language_info": {
   "codemirror_mode": {
    "name": "ipython",
    "version": 3
   },
   "file_extension": ".py",
   "mimetype": "text/x-python",
   "name": "python",
   "nbconvert_exporter": "python",
   "pygments_lexer": "ipython3",
   "version": "3.8.5"
  }
 },
 "nbformat": 4,
 "nbformat_minor": 4
}
