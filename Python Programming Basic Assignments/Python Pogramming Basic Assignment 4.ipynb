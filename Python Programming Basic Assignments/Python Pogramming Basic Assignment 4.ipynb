{
 "cells": [
  {
   "cell_type": "code",
   "execution_count": null,
   "metadata": {},
   "outputs": [],
   "source": [
    "#Q1.Program to find factorial of number\n",
    "n=int(input(\"Enter the number\"))\n",
    "fact=1\n",
    "\n",
    "if n<0:\n",
    "    print(\"Please enter positive integer\")\n",
    "elif n==0:\n",
    "    print(\"The factorial of 0 is 1\")\n",
    "else:\n",
    "    for i in range(1,n):\n",
    "        fact=fact*i\n",
    "    print(\"Factorial of n is\",fact)"
   ]
  },
  {
   "cell_type": "code",
   "execution_count": null,
   "metadata": {},
   "outputs": [],
   "source": [
    "#Q2.Display a multiplication table\n",
    "n=int(input(\"Enter the number\"))\n",
    "for i in range(1,11):\n",
    "    m=n*i\n",
    "    print(n,\"*\",i,\"=\",m)"
   ]
  },
  {
   "cell_type": "code",
   "execution_count": null,
   "metadata": {},
   "outputs": [],
   "source": [
    "#Q3.Program to print Fibonacci Series\n",
    "n=int(input(\"How many numbers: \"))\n",
    "i,j=0,1\n",
    "count=0\n",
    "if n<=0:\n",
    "    print(\"Please enter positive integer\")\n",
    "elif n==1:\n",
    "    print(\"Fibonacci series upto\",n,\":\")\n",
    "    print(i)\n",
    "    \n",
    "else:\n",
    "    while count<=n:\n",
    "        print(i)\n",
    "        k=i+j\n",
    "        i=j\n",
    "        j=k\n",
    "        count+=1    \n",
    "        "
   ]
  },
  {
   "cell_type": "code",
   "execution_count": null,
   "metadata": {},
   "outputs": [],
   "source": [
    "#Q4.Program to check Armstrong Number\n",
    "n=int(input(\"Enter number\\n\"))\n",
    "sum=0\n",
    "copy_n=n\n",
    "order=len(str(n))\n",
    "while n>0:\n",
    "    digit=n%10\n",
    "    sum+=digit**order\n",
    "    n=n//10\n",
    "if sum==copy_n:\n",
    "    print(copy_n,\"is a armstrong number\")\n",
    "else:\n",
    "    print(copy_n,\"is not  a armstrong number\")\n"
   ]
  },
  {
   "cell_type": "code",
   "execution_count": null,
   "metadata": {},
   "outputs": [],
   "source": [
    "#Q5.Program to find Armstrong Number at interval\n",
    "l=int(input(\"Enter lower limit\\n\"))\n",
    "u=int(input(\"Enter lower limit\\n\"))\n",
    "\n",
    "for n in range(l,u):\n",
    "    sum=0\n",
    "    copy_n=n\n",
    "    order=len(str(n))\n",
    "    while n>0:\n",
    "        digit=n%10\n",
    "        sum+=digit**order\n",
    "        n=n//10\n",
    "    if sum==copy_n:\n",
    "        print(copy_n)\n",
    "    "
   ]
  },
  {
   "cell_type": "code",
   "execution_count": null,
   "metadata": {},
   "outputs": [],
   "source": [
    "#Q6.Program to find sum of Natural Numbers.\n",
    "n=int(input(\"Enter number\\n\"))\n",
    "sum=0\n",
    "i=0\n",
    "if n<0:\n",
    "    print(\"Enter positive integer\")\n",
    "else:\n",
    "    while(i<n):\n",
    "        sum=sum+i\n",
    "        i+=1\n",
    "    print(\"sum of natual number is \",sum)\n",
    "    "
   ]
  },
  {
   "cell_type": "code",
   "execution_count": null,
   "metadata": {},
   "outputs": [],
   "source": []
  }
 ],
 "metadata": {
  "kernelspec": {
   "display_name": "Python 3",
   "language": "python",
   "name": "python3"
  },
  "language_info": {
   "codemirror_mode": {
    "name": "ipython",
    "version": 3
   },
   "file_extension": ".py",
   "mimetype": "text/x-python",
   "name": "python",
   "nbconvert_exporter": "python",
   "pygments_lexer": "ipython3",
   "version": "3.8.5"
  }
 },
 "nbformat": 4,
 "nbformat_minor": 4
}
